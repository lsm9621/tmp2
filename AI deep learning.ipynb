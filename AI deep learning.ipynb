{
  "nbformat": 4,
  "nbformat_minor": 0,
  "metadata": {
    "colab": {
      "name": "Untitled0.ipynb",
      "provenance": [],
      "authorship_tag": "ABX9TyMifL8efEf2vyS/ab9FbypV",
      "include_colab_link": true
    },
    "kernelspec": {
      "name": "python3",
      "display_name": "Python 3"
    },
    "language_info": {
      "name": "python"
    }
  },
  "cells": [
    {
      "cell_type": "markdown",
      "metadata": {
        "id": "view-in-github",
        "colab_type": "text"
      },
      "source": [
        "<a href=\"https://colab.research.google.com/github/lsm9621/tmp2/blob/main/AI%20deep%20learning.ipynb\" target=\"_parent\"><img src=\"https://colab.research.google.com/assets/colab-badge.svg\" alt=\"Open In Colab\"/></a>"
      ]
    },
    {
      "cell_type": "code",
      "execution_count": 2,
      "metadata": {
        "id": "Ed4lDmsnjfpc"
      },
      "outputs": [],
      "source": [
        "#AI deep learning"
      ]
    },
    {
      "cell_type": "code",
      "source": [
        "#test\n"
      ],
      "metadata": {
        "id": "cObl1DOAjh4I"
      },
      "execution_count": null,
      "outputs": []
    }
  ]
}